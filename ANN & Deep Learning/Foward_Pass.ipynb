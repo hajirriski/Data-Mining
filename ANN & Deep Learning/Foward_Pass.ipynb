{
 "cells": [
  {
   "cell_type": "code",
   "execution_count": 3,
   "metadata": {},
   "outputs": [
    {
     "name": "stderr",
     "output_type": "stream",
     "text": [
      "<>:4: SyntaxWarning: \"is\" with a literal. Did you mean \"==\"?\n",
      "<>:4: SyntaxWarning: \"is\" with a literal. Did you mean \"==\"?\n",
      "C:\\Users\\Kevin\\AppData\\Local\\Temp\\ipykernel_10868\\3628537224.py:4: SyntaxWarning: \"is\" with a literal. Did you mean \"==\"?\n",
      "  if activation is 'relu' :\n"
     ]
    }
   ],
   "source": [
    "def forwardPass(inputs, weight, bias, activation = 'linear'):\n",
    "    w_sum = np.dot(inputs, weight) + bias\n",
    "\n",
    "    if activation is 'relu' :\n",
    "\t\t# ReLU Activation f(x) = max(0, x)\n",
    "\t    act = np.maximum(w_sum, 0)\n",
    "    else :\n",
    "\t\t# Linear Activation f(x) = x\n",
    "\t    act = w_sum\n",
    "\n",
    "    return act"
   ]
  }
 ],
 "metadata": {
  "interpreter": {
   "hash": "06d3ad103a38a5e5980b0a2ddf222334b9b3630c94a7e75a8e45e8afe280f469"
  },
  "kernelspec": {
   "display_name": "Python 3.10.3 64-bit",
   "language": "python",
   "name": "python3"
  },
  "language_info": {
   "codemirror_mode": {
    "name": "ipython",
    "version": 3
   },
   "file_extension": ".py",
   "mimetype": "text/x-python",
   "name": "python",
   "nbconvert_exporter": "python",
   "pygments_lexer": "ipython3",
   "version": "3.10.3"
  },
  "orig_nbformat": 4
 },
 "nbformat": 4,
 "nbformat_minor": 2
}
