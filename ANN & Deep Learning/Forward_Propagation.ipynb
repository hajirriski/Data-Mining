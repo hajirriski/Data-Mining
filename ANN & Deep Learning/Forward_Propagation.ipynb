{
 "cells": [
  {
   "cell_type": "code",
   "execution_count": 14,
   "metadata": {},
   "outputs": [],
   "source": [
    "import numpy as np"
   ]
  },
  {
   "cell_type": "code",
   "execution_count": 15,
   "metadata": {},
   "outputs": [],
   "source": [
    "def forwardPass(inputs, weight, bias):  \n",
    "    w_sum = np.dot(inputs, weight) + bias\n",
    "\n",
    "\t# Linear Activation f(x) = x\n",
    "    act = w_sum\n",
    "\n",
    "    return act"
   ]
  },
  {
   "cell_type": "code",
   "execution_count": 16,
   "metadata": {},
   "outputs": [],
   "source": [
    "# Pre-Trained Weights & Biases after Training\n",
    "W = np.array([[2.99999928]])\n",
    "b = np.array([1.99999976])"
   ]
  },
  {
   "cell_type": "code",
   "execution_count": 17,
   "metadata": {},
   "outputs": [],
   "source": [
    "# Initialize Input Data\n",
    "inputs = np.array([[7], [8], [9], [10]])"
   ]
  },
  {
   "cell_type": "code",
   "execution_count": 18,
   "metadata": {},
   "outputs": [],
   "source": [
    "# Output of Output Layer\n",
    "o_out = forwardPass(inputs, W, b)"
   ]
  },
  {
   "cell_type": "code",
   "execution_count": 19,
   "metadata": {},
   "outputs": [
    {
     "name": "stdout",
     "output_type": "stream",
     "text": [
      "Output Layer Output (Linear)\n",
      "================================\n",
      "[[22.99999472]\n",
      " [25.999994  ]\n",
      " [28.99999328]\n",
      " [31.99999256]] \n",
      "\n"
     ]
    }
   ],
   "source": [
    "print('Output Layer Output (Linear)')\n",
    "print('================================')\n",
    "print(o_out, \"\\n\")"
   ]
  }
 ],
 "metadata": {
  "interpreter": {
   "hash": "06d3ad103a38a5e5980b0a2ddf222334b9b3630c94a7e75a8e45e8afe280f469"
  },
  "kernelspec": {
   "display_name": "Python 3.10.3 64-bit",
   "language": "python",
   "name": "python3"
  },
  "language_info": {
   "codemirror_mode": {
    "name": "ipython",
    "version": 3
   },
   "file_extension": ".py",
   "mimetype": "text/x-python",
   "name": "python",
   "nbconvert_exporter": "python",
   "pygments_lexer": "ipython3",
   "version": "3.10.3"
  },
  "orig_nbformat": 4
 },
 "nbformat": 4,
 "nbformat_minor": 2
}
